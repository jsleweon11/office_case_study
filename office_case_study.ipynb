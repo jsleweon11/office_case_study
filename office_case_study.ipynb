{
  "nbformat": 4,
  "nbformat_minor": 0,
  "metadata": {
    "colab": {
      "provenance": [],
      "authorship_tag": "ABX9TyMB5D3a8atYqb7ydZYhMZhp",
      "include_colab_link": true
    },
    "kernelspec": {
      "name": "python3",
      "display_name": "Python 3"
    },
    "language_info": {
      "name": "python"
    }
  },
  "cells": [
    {
      "cell_type": "markdown",
      "metadata": {
        "id": "view-in-github",
        "colab_type": "text"
      },
      "source": [
        "<a href=\"https://colab.research.google.com/github/jsleweon11/office_case_study/blob/main/office_case_study.ipynb\" target=\"_parent\"><img src=\"https://colab.research.google.com/assets/colab-badge.svg\" alt=\"Open In Colab\"/></a>"
      ]
    },
    {
      "cell_type": "code",
      "source": [
        "!pip install numpy-financial\n"
      ],
      "metadata": {
        "colab": {
          "base_uri": "https://localhost:8080/"
        },
        "id": "hK9JCYe3q3ce",
        "outputId": "dd76781d-ed34-441a-a2e1-80bd9fd302fa"
      },
      "execution_count": 12,
      "outputs": [
        {
          "output_type": "stream",
          "name": "stdout",
          "text": [
            "Collecting numpy-financial\n",
            "  Downloading numpy_financial-1.0.0-py3-none-any.whl (14 kB)\n",
            "Requirement already satisfied: numpy>=1.15 in /usr/local/lib/python3.10/dist-packages (from numpy-financial) (1.25.2)\n",
            "Installing collected packages: numpy-financial\n",
            "Successfully installed numpy-financial-1.0.0\n"
          ]
        }
      ]
    },
    {
      "cell_type": "code",
      "source": [
        "import numpy as np\n",
        "import numpy_financial as npf\n",
        "\n",
        "# Parameters\n",
        "purchase_price_per_sqft = 200\n",
        "sqft = 250000\n",
        "purchase_price = purchase_price_per_sqft * sqft\n",
        "initial_occupancy = 0.60\n",
        "current_rent_per_sqft_per_year = 25\n",
        "expense_growth_rate = 0.02\n",
        "rent_growth_rate = 0.03\n",
        "stabilized_vacancy_rate = 0.05\n",
        "closing_costs = 750000\n",
        "renovation_period_years = 3\n",
        "interest_rate = 0.0475\n",
        "amortization_period_years = 30\n",
        "loan_term_years = 7\n",
        "max_loan_to_value = 0.65\n",
        "cap_rate = 0.065\n",
        "closing_fees = 0.01\n",
        "sale_cap_rate = 0.07\n",
        "sale_fees = 750000\n",
        "\n",
        "# Annual income\n",
        "annual_income = current_rent_per_sqft_per_year * sqft * initial_occupancy\n",
        "stabilized_annual_income = current_rent_per_sqft_per_year * sqft * (1 - stabilized_vacancy_rate)\n",
        "\n",
        "# Annual operating expenses\n",
        "annual_operating_expenses = 7500000\n",
        "\n",
        "# NOI (Net Operating Income)\n",
        "noi = stabilized_annual_income - annual_operating_expenses\n",
        "\n",
        "# Maximum loan amount\n",
        "max_loan_amount = noi / cap_rate * max_loan_to_value\n",
        "\n",
        "# Calculate monthly mortgage payment\n",
        "monthly_interest_rate = interest_rate / 12\n",
        "num_payments = amortization_period_years * 12\n",
        "monthly_payment = npf.pmt(monthly_interest_rate, num_payments, -max_loan_amount)\n",
        "\n",
        "# Total debt service per year\n",
        "annual_debt_service = monthly_payment * 12\n",
        "\n",
        "# Annual cash flow\n",
        "annual_cash_flow = noi - annual_debt_service\n",
        "\n",
        "# Sale price at exit\n",
        "sale_price = noi / sale_cap_rate\n",
        "\n",
        "# Levered and Unlevered IRR\n",
        "cash_flows = [-purchase_price - closing_costs] + [annual_cash_flow] * loan_term_years + [sale_price - sale_fees]\n",
        "levered_irr = npf.irr(cash_flows)\n",
        "unlevered_cash_flows = [-purchase_price - closing_costs] + [noi] * loan_term_years + [sale_price - sale_fees]\n",
        "unlevered_irr = npf.irr(unlevered_cash_flows)\n",
        "\n",
        "# Equity Multiple\n",
        "levered_equity_multiple = sum(cash_flows) / (-purchase_price - closing_costs)\n",
        "unlevered_equity_multiple = sum(unlevered_cash_flows) / (-purchase_price - closing_costs)\n",
        "\n",
        "# Results\n",
        "print(f\"Levered IRR: {levered_irr * 100:.2f}%\")\n",
        "print(f\"Unlevered IRR: {unlevered_irr * 100:.2f}%\")\n",
        "print(f\"Levered Equity Multiple: {levered_equity_multiple:.2f}\")\n",
        "print(f\"Unlevered Equity Multiple: {unlevered_equity_multiple:.2f}\")\n"
      ],
      "metadata": {
        "colab": {
          "base_uri": "https://localhost:8080/"
        },
        "id": "BgPf3qmWrUhn",
        "outputId": "300ad4b5-010a-45f9-8c71-c038f75d0723"
      },
      "execution_count": 14,
      "outputs": [
        {
          "output_type": "stream",
          "name": "stdout",
          "text": [
            "Levered IRR: nan%\n",
            "Unlevered IRR: nan%\n",
            "Levered Equity Multiple: 1.54\n",
            "Unlevered Equity Multiple: 1.67\n"
          ]
        }
      ]
    }
  ]
}